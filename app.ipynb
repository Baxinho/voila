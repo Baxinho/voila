{
 "cells": [
  {
   "cell_type": "code",
   "execution_count": 1,
   "metadata": {},
   "outputs": [],
   "source": [
    "from bs4 import BeautifulSoup\n",
    "import pandas as pd\n",
    "import requests\n",
    "import ipywidgets as widgets\n",
    "from ipywidgets import interact"
   ]
  },
  {
   "cell_type": "markdown",
   "metadata": {},
   "source": [
    "# ESG APP"
   ]
  },
  {
   "cell_type": "code",
   "execution_count": 2,
   "metadata": {},
   "outputs": [
    {
     "name": "stdout",
     "output_type": "stream",
     "text": [
      "Success\n"
     ]
    }
   ],
   "source": [
    "try:\n",
    "    web_data = requests.get('https://finance.yahoo.com/quote/MSFT/sustainability?p=MSFT').text\n",
    "    print('Loading data... Success!')\n",
    "except:\n",
    "    print('Could not get URL')"
   ]
  },
  {
   "cell_type": "markdown",
   "metadata": {},
   "source": [
    "- Select from the dropdown menu"
   ]
  },
  {
   "cell_type": "code",
   "execution_count": 3,
   "metadata": {},
   "outputs": [],
   "source": [
    "soup = BeautifulSoup(web_data, 'html.parser')"
   ]
  },
  {
   "cell_type": "code",
   "execution_count": 4,
   "metadata": {},
   "outputs": [],
   "source": [
    "esg_score = soup.find('div', {'class':'Fz(36px) Fw(600) D(ib) Mend(5px)'})\n",
    "datapoint=esg_score.text\n",
    "#print(datapoint)"
   ]
  },
  {
   "cell_type": "code",
   "execution_count": 5,
   "metadata": {},
   "outputs": [],
   "source": [
    "scores = soup.find_all('div', {'class': 'D(ib) Fz(23px) smartphone_Fz(22px) Fw(600)'})\n",
    "elements=[score.text for score in scores]"
   ]
  },
  {
   "cell_type": "code",
   "execution_count": 12,
   "metadata": {},
   "outputs": [
    {
     "data": {
      "text/plain": [
       "['0.4', '9.9', '5.2']"
      ]
     },
     "execution_count": 12,
     "metadata": {},
     "output_type": "execute_result"
    }
   ],
   "source": [
    "#elements"
   ]
  },
  {
   "cell_type": "code",
   "execution_count": 6,
   "metadata": {},
   "outputs": [],
   "source": [
    "controversey_score = soup.find('div',{'class': 'D(ib) Fz(36px) Fw(500)'})\n",
    "controversey_datapoint = controversey_score.text"
   ]
  },
  {
   "cell_type": "code",
   "execution_count": 7,
   "metadata": {},
   "outputs": [],
   "source": [
    "df = pd.DataFrame({'Total ESG Score':datapoint,\n",
    "                  'Environment Score':elements[0],\n",
    "                  'Social Score':elements[1],\n",
    "                   'Governance Score':elements[2],\n",
    "                   'Controversy Score': controversey_datapoint},\n",
    "                 index=['MSFT'])\n",
    "\n",
    "#df"
   ]
  },
  {
   "cell_type": "code",
   "execution_count": 8,
   "metadata": {},
   "outputs": [],
   "source": [
    "def get_tickers():\n",
    "    wiki_page = requests.get('https://en.wikipedia.org/wiki/List_of_S%26P_500_companies').text\n",
    "    sp_data = pd.read_html(wiki_page)\n",
    "    ticker_df = sp_data[0]\n",
    "    ticker_options = ticker_df['Symbol']\n",
    "    return ticker_options"
   ]
  },
  {
   "cell_type": "code",
   "execution_count": 9,
   "metadata": {},
   "outputs": [],
   "source": [
    "def web_scraper(ticker):\n",
    "    \n",
    "    try:\n",
    "        web_data = requests.get('https://finance.yahoo.com/quote/'+ticker+'/sustainability?p='+'ticker').text\n",
    "    except:\n",
    "        print('Could not get URL')\n",
    "        \n",
    "    soup = BeautifulSoup(web_data, 'html.parser')\n",
    "    esg_score = soup.find('div', {'class':'Fz(36px) Fw(600) D(ib) Mend(5px)'})\n",
    "    datapoint=esg_score.text\n",
    "    scores = soup.find_all('div', {'class': 'D(ib) Fz(23px) smartphone_Fz(22px) Fw(600)'})\n",
    "    elements=[score.text for score in scores]\n",
    "    controversey_score = soup.find('div',{'class': 'D(ib) Fz(36px) Fw(500)'})\n",
    "    controversey_datapoint = controversey_score.text\n",
    "    \n",
    "    df = pd.DataFrame({'Total ESG Score':datapoint,\n",
    "                  'Environment Score':elements[0],\n",
    "                  'Social Score':elements[1],\n",
    "                   'Governance Score':elements[2],\n",
    "                   'Controversy Score': controversey_datapoint},\n",
    "                 index=[ticker])\n",
    "    df = df.astype('float')\n",
    "    df['Controversy Assessment'] = df.apply(lambda x: level(x['Controversy Score']), axis=1)\n",
    "    return df"
   ]
  },
  {
   "cell_type": "code",
   "execution_count": 10,
   "metadata": {},
   "outputs": [],
   "source": [
    "def level(x):\n",
    "    if x==0.0:\n",
    "        return 'No Controversy'\n",
    "    elif x==1.0:\n",
    "        return 'Little Controversy'\n",
    "    elif x==2.0:\n",
    "        return 'Little Controversy'\n",
    "    elif x==3.0:\n",
    "        return 'Relatively High Controversy'\n",
    "    else:\n",
    "        return 'Severe Controversy'"
   ]
  },
  {
   "cell_type": "code",
   "execution_count": 11,
   "metadata": {},
   "outputs": [
    {
     "data": {
      "application/vnd.jupyter.widget-view+json": {
       "model_id": "d42ff40e9d8546998ad4e36d4e2f5911",
       "version_major": 2,
       "version_minor": 0
      },
      "text/plain": [
       "interactive(children=(Dropdown(description='Ticker', index=199, options=('MMM', 'ABT', 'ABBV', 'ABMD', 'ACN', …"
      ]
     },
     "metadata": {},
     "output_type": "display_data"
    }
   ],
   "source": [
    "@interact\n",
    "def get_esg(ticker=widgets.Dropdown(description='Ticker',\n",
    "                                   options=get_tickers(),\n",
    "                                   value='F')):\n",
    "    esg_data = web_scraper(ticker)\n",
    "    return esg_data"
   ]
  },
  {
   "cell_type": "code",
   "execution_count": null,
   "metadata": {},
   "outputs": [],
   "source": []
  }
 ],
 "metadata": {
  "kernelspec": {
   "display_name": "Python 3",
   "language": "python",
   "name": "python3"
  },
  "language_info": {
   "codemirror_mode": {
    "name": "ipython",
    "version": 3
   },
   "file_extension": ".py",
   "mimetype": "text/x-python",
   "name": "python",
   "nbconvert_exporter": "python",
   "pygments_lexer": "ipython3",
   "version": "3.7.5"
  }
 },
 "nbformat": 4,
 "nbformat_minor": 4
}
